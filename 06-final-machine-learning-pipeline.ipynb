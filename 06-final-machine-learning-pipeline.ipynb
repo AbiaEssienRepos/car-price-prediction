{
 "cells": [
  {
   "cell_type": "code",
   "execution_count": 1,
   "id": "82b1f4e5-7a63-4f17-93dc-25b56471b0b8",
   "metadata": {},
   "outputs": [],
   "source": [
    "# data manipulation and plotting\n",
    "import pandas as pd\n",
    "import numpy as np\n",
    "\n",
    "import matplotlib.pyplot as plt\n",
    "import seaborn as sns\n",
    "sns.set_style('darkgrid')\n",
    "\n",
    "# for saving the pipeline\n",
    "import joblib\n",
    "\n",
    "# from scikit-learn\n",
    "from sklearn.linear_model import Lasso\n",
    "from sklearn.metrics import mean_squared_error, r2_score\n",
    "from sklearn.model_selection import train_test_split\n",
    "from sklearn.pipeline import Pipeline\n",
    "from sklearn.preprocessing import MinMaxScaler\n",
    "\n",
    "# from feature engine\n",
    "from feature_engine.selection import DropFeatures\n",
    "from feature_engine.encoding import RareLabelEncoder\n",
    "\n",
    "# created in-house\n",
    "import preprocessors as pp"
   ]
  },
  {
   "cell_type": "code",
   "execution_count": 2,
   "id": "65f6362f-b2fb-4211-a87d-17f67814b693",
   "metadata": {},
   "outputs": [],
   "source": [
    "# to display all the columns of the dataframe in the notebook\n",
    "pd.pandas.set_option('display.max_columns', None)"
   ]
  },
  {
   "cell_type": "code",
   "execution_count": 3,
   "id": "9cee1e8f-c9c5-463a-b020-e36751508bf3",
   "metadata": {},
   "outputs": [
    {
     "name": "stdout",
     "output_type": "stream",
     "text": [
      "(205, 26)\n"
     ]
    },
    {
     "data": {
      "text/html": [
       "<div>\n",
       "<style scoped>\n",
       "    .dataframe tbody tr th:only-of-type {\n",
       "        vertical-align: middle;\n",
       "    }\n",
       "\n",
       "    .dataframe tbody tr th {\n",
       "        vertical-align: top;\n",
       "    }\n",
       "\n",
       "    .dataframe thead th {\n",
       "        text-align: right;\n",
       "    }\n",
       "</style>\n",
       "<table border=\"1\" class=\"dataframe\">\n",
       "  <thead>\n",
       "    <tr style=\"text-align: right;\">\n",
       "      <th></th>\n",
       "      <th>car_ID</th>\n",
       "      <th>symboling</th>\n",
       "      <th>CarName</th>\n",
       "      <th>fueltype</th>\n",
       "      <th>aspiration</th>\n",
       "      <th>doornumber</th>\n",
       "      <th>carbody</th>\n",
       "      <th>drivewheel</th>\n",
       "      <th>enginelocation</th>\n",
       "      <th>wheelbase</th>\n",
       "      <th>carlength</th>\n",
       "      <th>carwidth</th>\n",
       "      <th>carheight</th>\n",
       "      <th>curbweight</th>\n",
       "      <th>enginetype</th>\n",
       "      <th>cylindernumber</th>\n",
       "      <th>enginesize</th>\n",
       "      <th>fuelsystem</th>\n",
       "      <th>boreratio</th>\n",
       "      <th>stroke</th>\n",
       "      <th>compressionratio</th>\n",
       "      <th>horsepower</th>\n",
       "      <th>peakrpm</th>\n",
       "      <th>citympg</th>\n",
       "      <th>highwaympg</th>\n",
       "      <th>price</th>\n",
       "    </tr>\n",
       "  </thead>\n",
       "  <tbody>\n",
       "    <tr>\n",
       "      <th>0</th>\n",
       "      <td>1</td>\n",
       "      <td>3</td>\n",
       "      <td>alfa-romeo</td>\n",
       "      <td>gas</td>\n",
       "      <td>std</td>\n",
       "      <td>two</td>\n",
       "      <td>convertible</td>\n",
       "      <td>rwd</td>\n",
       "      <td>front</td>\n",
       "      <td>88.6</td>\n",
       "      <td>168.8</td>\n",
       "      <td>64.1</td>\n",
       "      <td>48.8</td>\n",
       "      <td>2548</td>\n",
       "      <td>dohc</td>\n",
       "      <td>four</td>\n",
       "      <td>130</td>\n",
       "      <td>mpfi</td>\n",
       "      <td>3.47</td>\n",
       "      <td>2.68</td>\n",
       "      <td>9.0</td>\n",
       "      <td>111</td>\n",
       "      <td>5000</td>\n",
       "      <td>21</td>\n",
       "      <td>27</td>\n",
       "      <td>13495.0</td>\n",
       "    </tr>\n",
       "    <tr>\n",
       "      <th>1</th>\n",
       "      <td>2</td>\n",
       "      <td>3</td>\n",
       "      <td>alfa-romeo</td>\n",
       "      <td>gas</td>\n",
       "      <td>std</td>\n",
       "      <td>two</td>\n",
       "      <td>convertible</td>\n",
       "      <td>rwd</td>\n",
       "      <td>front</td>\n",
       "      <td>88.6</td>\n",
       "      <td>168.8</td>\n",
       "      <td>64.1</td>\n",
       "      <td>48.8</td>\n",
       "      <td>2548</td>\n",
       "      <td>dohc</td>\n",
       "      <td>four</td>\n",
       "      <td>130</td>\n",
       "      <td>mpfi</td>\n",
       "      <td>3.47</td>\n",
       "      <td>2.68</td>\n",
       "      <td>9.0</td>\n",
       "      <td>111</td>\n",
       "      <td>5000</td>\n",
       "      <td>21</td>\n",
       "      <td>27</td>\n",
       "      <td>16500.0</td>\n",
       "    </tr>\n",
       "    <tr>\n",
       "      <th>2</th>\n",
       "      <td>3</td>\n",
       "      <td>1</td>\n",
       "      <td>alfa-romeo</td>\n",
       "      <td>gas</td>\n",
       "      <td>std</td>\n",
       "      <td>two</td>\n",
       "      <td>hatchback</td>\n",
       "      <td>rwd</td>\n",
       "      <td>front</td>\n",
       "      <td>94.5</td>\n",
       "      <td>171.2</td>\n",
       "      <td>65.5</td>\n",
       "      <td>52.4</td>\n",
       "      <td>2823</td>\n",
       "      <td>ohcv</td>\n",
       "      <td>six</td>\n",
       "      <td>152</td>\n",
       "      <td>mpfi</td>\n",
       "      <td>2.68</td>\n",
       "      <td>3.47</td>\n",
       "      <td>9.0</td>\n",
       "      <td>154</td>\n",
       "      <td>5000</td>\n",
       "      <td>19</td>\n",
       "      <td>26</td>\n",
       "      <td>16500.0</td>\n",
       "    </tr>\n",
       "    <tr>\n",
       "      <th>3</th>\n",
       "      <td>4</td>\n",
       "      <td>2</td>\n",
       "      <td>audi</td>\n",
       "      <td>gas</td>\n",
       "      <td>std</td>\n",
       "      <td>four</td>\n",
       "      <td>sedan</td>\n",
       "      <td>fwd</td>\n",
       "      <td>front</td>\n",
       "      <td>99.8</td>\n",
       "      <td>176.6</td>\n",
       "      <td>66.2</td>\n",
       "      <td>54.3</td>\n",
       "      <td>2337</td>\n",
       "      <td>ohc</td>\n",
       "      <td>four</td>\n",
       "      <td>109</td>\n",
       "      <td>mpfi</td>\n",
       "      <td>3.19</td>\n",
       "      <td>3.40</td>\n",
       "      <td>10.0</td>\n",
       "      <td>102</td>\n",
       "      <td>5500</td>\n",
       "      <td>24</td>\n",
       "      <td>30</td>\n",
       "      <td>13950.0</td>\n",
       "    </tr>\n",
       "    <tr>\n",
       "      <th>4</th>\n",
       "      <td>5</td>\n",
       "      <td>2</td>\n",
       "      <td>audi</td>\n",
       "      <td>gas</td>\n",
       "      <td>std</td>\n",
       "      <td>four</td>\n",
       "      <td>sedan</td>\n",
       "      <td>4wd</td>\n",
       "      <td>front</td>\n",
       "      <td>99.4</td>\n",
       "      <td>176.6</td>\n",
       "      <td>66.4</td>\n",
       "      <td>54.3</td>\n",
       "      <td>2824</td>\n",
       "      <td>ohc</td>\n",
       "      <td>five</td>\n",
       "      <td>136</td>\n",
       "      <td>mpfi</td>\n",
       "      <td>3.19</td>\n",
       "      <td>3.40</td>\n",
       "      <td>8.0</td>\n",
       "      <td>115</td>\n",
       "      <td>5500</td>\n",
       "      <td>18</td>\n",
       "      <td>22</td>\n",
       "      <td>17450.0</td>\n",
       "    </tr>\n",
       "  </tbody>\n",
       "</table>\n",
       "</div>"
      ],
      "text/plain": [
       "   car_ID  symboling     CarName fueltype aspiration doornumber      carbody  \\\n",
       "0       1          3  alfa-romeo      gas        std        two  convertible   \n",
       "1       2          3  alfa-romeo      gas        std        two  convertible   \n",
       "2       3          1  alfa-romeo      gas        std        two    hatchback   \n",
       "3       4          2        audi      gas        std       four        sedan   \n",
       "4       5          2        audi      gas        std       four        sedan   \n",
       "\n",
       "  drivewheel enginelocation  wheelbase  carlength  carwidth  carheight  \\\n",
       "0        rwd          front       88.6      168.8      64.1       48.8   \n",
       "1        rwd          front       88.6      168.8      64.1       48.8   \n",
       "2        rwd          front       94.5      171.2      65.5       52.4   \n",
       "3        fwd          front       99.8      176.6      66.2       54.3   \n",
       "4        4wd          front       99.4      176.6      66.4       54.3   \n",
       "\n",
       "   curbweight enginetype cylindernumber  enginesize fuelsystem  boreratio  \\\n",
       "0        2548       dohc           four         130       mpfi       3.47   \n",
       "1        2548       dohc           four         130       mpfi       3.47   \n",
       "2        2823       ohcv            six         152       mpfi       2.68   \n",
       "3        2337        ohc           four         109       mpfi       3.19   \n",
       "4        2824        ohc           five         136       mpfi       3.19   \n",
       "\n",
       "   stroke  compressionratio  horsepower  peakrpm  citympg  highwaympg    price  \n",
       "0    2.68               9.0         111     5000       21          27  13495.0  \n",
       "1    2.68               9.0         111     5000       21          27  16500.0  \n",
       "2    3.47               9.0         154     5000       19          26  16500.0  \n",
       "3    3.40              10.0         102     5500       24          30  13950.0  \n",
       "4    3.40               8.0         115     5500       18          22  17450.0  "
      ]
     },
     "execution_count": 3,
     "metadata": {},
     "output_type": "execute_result"
    }
   ],
   "source": [
    "# load dataset\n",
    "data = pd.read_csv('CarPrice_db.csv')\n",
    "\n",
    "# rows and columns of the data\n",
    "print(data.shape)\n",
    "\n",
    "# visualise the dataset\n",
    "data.head()"
   ]
  },
  {
   "cell_type": "code",
   "execution_count": 4,
   "id": "dd17af93-1575-4a44-a5ed-a6f9baa6edac",
   "metadata": {},
   "outputs": [],
   "source": [
    "# Let's separate into train and test set\n",
    "# Remember to set the seed (random_state for this sklearn function)\n",
    "\n",
    "X_train, X_test, y_train, y_test = train_test_split(\n",
    "    data.drop(['car_ID','enginelocation','enginetype','price'],axis=1), \n",
    "    data['price'], \n",
    "    test_size=0.3, \n",
    "    random_state=0)"
   ]
  },
  {
   "cell_type": "code",
   "execution_count": 5,
   "id": "9cd4bfde-c862-4874-9835-dbe46461d576",
   "metadata": {},
   "outputs": [
    {
     "data": {
      "text/plain": [
       "((143, 22), (62, 22))"
      ]
     },
     "execution_count": 5,
     "metadata": {},
     "output_type": "execute_result"
    }
   ],
   "source": [
    "X_train.shape, X_test.shape"
   ]
  },
  {
   "cell_type": "code",
   "execution_count": 6,
   "id": "752d6e2e-8afe-4b7b-a36e-9b60810c814e",
   "metadata": {},
   "outputs": [],
   "source": [
    "REMAP_VARS = ['symboling']\n",
    "\n",
    "CAR_VAR = 'CarName'\n",
    "\n",
    "BINARY_VARS = ['fueltype', \n",
    "               'aspiration', \n",
    "               'doornumber']\n",
    "\n",
    "NON_BINARY_VARS = ['CarName', \n",
    "                   'carbody', \n",
    "                   'drivewheel', \n",
    "                   'cylindernumber', \n",
    "                   'fuelsystem',\n",
    "                   ]\n",
    "\n",
    "CAT_VARS = BINARY_VARS + NON_BINARY_VARS\n",
    "\n",
    "SCALED_FEATURES = ['symboling',\n",
    "                   'CarName',\n",
    "                   'carbody',\n",
    "                   'drivewheel',\n",
    "                   'wheelbase',\n",
    "                   'carlength',\n",
    "                   'carwidth',\n",
    "                   'carheight',\n",
    "                   'curbweight',\n",
    "                   'cylindernumber',\n",
    "                   'enginesize',\n",
    "                   'fuelsystem',\n",
    "                   'boreratio',\n",
    "                   'stroke',\n",
    "                   'compressionratio',\n",
    "                   'horsepower',\n",
    "                   'peakrpm',\n",
    "                   'citympg',\n",
    "                   'highwaympg']\n",
    "\n",
    "TARGET = 'price'\n",
    "\n",
    "DROPPED_FEATURES = ['stroke', \n",
    "                'compressionratio', \n",
    "                'peakrpm', \n",
    "                'doornumber_two']"
   ]
  },
  {
   "cell_type": "code",
   "execution_count": 7,
   "id": "aff7145e-3303-4045-857e-3995ecad8762",
   "metadata": {},
   "outputs": [],
   "source": [
    "price_pipe = Pipeline([\n",
    "    \n",
    "    # ===== REMAP SYMBOLING =====\n",
    "    # reassign the value to reflect domain reality\n",
    "    ('remap_symboling', pp.RemapVariable(variab les=REMAP_VARS)),\n",
    "    \n",
    "    # ===== CAR NAME =====\n",
    "    # collapse the cardinality of the column\n",
    "    ('collapse_carname', pp.CarTransform(variable=CAR_VAR)),\n",
    "    \n",
    "    # ===== RARE LABELS =====\n",
    "    # group categories present in less than 1% of obs.\n",
    "    ('rare_label_encoder', RareLabelEncoder(\n",
    "        tol=0.01, n_categories=1, variables=CAT_VARS)),\n",
    "    \n",
    "    # ===== CATEGORICAL ENCODER =====\n",
    "    # one-hot encode binary variables\n",
    "    ('binary_encoder', pp.CategoricalEncoder(variables=BINARY_VARS)),\n",
    "    \n",
    "    # encoding of non-binary variables\n",
    "    ('non_binary_encoder', pp.OrdinalEncoder(\n",
    "        variables=NON_BINARY_VARS, target=TARGET)),\n",
    "    \n",
    "    # ===== SCALER =====\n",
    "    # scale the continuous variables\n",
    "    ('scaler', pp.ContinuousScaler(variables=SCALED_FEATURES)),\n",
    "    \n",
    "    # ===== DROP FEATURES =====\n",
    "    # reduce dataset to selected features\n",
    "    ('drop_features', DropFeatures(features_to_drop=DROPPED_FEATURES)),\n",
    "    \n",
    "    # ===== TRAIN MODEL =====\n",
    "    ('lasso', Lasso(alpha=0.001, random_state=0)),\n",
    "    \n",
    "])"
   ]
  },
  {
   "cell_type": "code",
   "execution_count": 8,
   "id": "ba7e1d22-2a9e-4b67-8238-85a65d366fc8",
   "metadata": {},
   "outputs": [
    {
     "data": {
      "text/plain": [
       "Pipeline(steps=[('remap_symboling',\n",
       "                 <preprocessors.RemapVariable object at 0x11d48cc10>),\n",
       "                ('collapse_carname',\n",
       "                 <preprocessors.CarTransform object at 0x11d48c460>),\n",
       "                ('rare_label_encoder',\n",
       "                 RareLabelEncoder(n_categories=1, tol=0.01,\n",
       "                                  variables=['fueltype', 'aspiration',\n",
       "                                             'doornumber', 'CarName', 'carbody',\n",
       "                                             'drivewheel', 'cylindernumber',\n",
       "                                             'fuelsystem'])),\n",
       "                ('binary_encoder',\n",
       "                 <preprocessors.CategoricalEncoder object at 0x11d48cd00>),\n",
       "                ('non_binary_encoder',\n",
       "                 <preprocessors.OrdinalEncoder object at 0x11d48cdf0>),\n",
       "                ('scaler',\n",
       "                 <preprocessors.ContinuousScaler object at 0x11d48cf40>),\n",
       "                ('drop_features',\n",
       "                 DropFeatures(features_to_drop=['stroke', 'compressionratio',\n",
       "                                                'peakrpm', 'doornumber_two'])),\n",
       "                ('lasso', Lasso(alpha=0.001, random_state=0))])"
      ]
     },
     "execution_count": 8,
     "metadata": {},
     "output_type": "execute_result"
    }
   ],
   "source": [
    "price_pipe.fit(X_train, y_train)"
   ]
  },
  {
   "cell_type": "code",
   "execution_count": 9,
   "id": "04614e6d-9e3e-40f3-8f35-ceed7a51b190",
   "metadata": {},
   "outputs": [
    {
     "name": "stdout",
     "output_type": "stream",
     "text": [
      "test mse: 12707503\n",
      "test rmse: 3564.7584770921017\n",
      "test r2: 0.8075710303102351\n",
      "\n",
      "Average grade score: 10245.0\n"
     ]
    }
   ],
   "source": [
    "# evaluate the model:\n",
    "# ====================\n",
    "\n",
    "# make predictions for test set\n",
    "pred = price_pipe.predict(X_test)\n",
    "\n",
    "# determine mse, rmse and r2\n",
    "print(f'test mse: {int(mean_squared_error(y_test, pred))}')\n",
    "print(f'test rmse: {(int(mean_squared_error(y_test, pred)))**0.5}')\n",
    "print(f'test r2: {r2_score(y_test, pred)}')\n",
    "print()\n",
    "\n",
    "print(f'Average grade score: {y_train.median()}')"
   ]
  },
  {
   "cell_type": "code",
   "execution_count": 10,
   "id": "ee680ed7-763c-4e5f-a87a-8210768632d4",
   "metadata": {},
   "outputs": [
    {
     "data": {
      "image/png": "[encoded data removed]",
      "text/plain": [
       "<Figure size 1080x504 with 1 Axes>"
      ]
     },
     "metadata": {},
     "output_type": "display_data"
    }
   ],
   "source": [
    "# let's evaluate the distribution of the errors: \n",
    "# they should be fairly normally distributed\n",
    "\n",
    "errors = y_test - pred\n",
    "\n",
    "plt.figure(figsize=(15,7))\n",
    "errors.hist(bins=20)\n",
    "plt.xlabel('errors')\n",
    "plt.show()"
   ]
  },
  {
   "cell_type": "markdown",
   "id": "63aa472e-ca76-40b0-ab8e-9e1c814fd11d",
   "metadata": {},
   "source": [
    "Notice the model is more conservative than optimisitic with its estimates. There are more instances of estimating below the actual values than otherwise but the error distribution is fairly normal and centered around 0. We can conclude that our model gets it right more times than it doesn't."
   ]
  },
  {
   "cell_type": "code",
   "execution_count": 11,
   "id": "a3771d70-89a5-4481-b9ff-49af1a2fad57",
   "metadata": {},
   "outputs": [
    {
     "data": {
      "text/plain": [
       "Text(0.5, 0, 'predictions')"
      ]
     },
     "execution_count": 11,
     "metadata": {},
     "output_type": "execute_result"
    },
    {
     "data": {
      "image/png": "[encoded data removed]",
      "text/plain": [
       "<Figure size 1080x504 with 1 Axes>"
      ]
     },
     "metadata": {},
     "output_type": "display_data"
    }
   ],
   "source": [
    "# plot out the predictions\n",
    "plt.figure(figsize=(15,7))\n",
    "pd.Series(pred).hist(bins=40)\n",
    "plt.xlabel('predictions')"
   ]
  },
  {
   "cell_type": "markdown",
   "id": "fbe05a7b-02c5-4715-892c-65f7019e8772",
   "metadata": {},
   "source": [
    "Notice how the distribution of the predictions closely mirrors the distribution of the actual car prices we analysed in the first notebook. "
   ]
  },
  {
   "cell_type": "code",
   "execution_count": 12,
   "id": "515ed9dc-e35c-467e-8c34-41b62c25cb2c",
   "metadata": {},
   "outputs": [
    {
     "data": {
      "text/plain": [
       "['price_pipe.joblib']"
      ]
     },
     "execution_count": 12,
     "metadata": {},
     "output_type": "execute_result"
    }
   ],
   "source": [
    "# now let's save the model\n",
    "\n",
    "joblib.dump(price_pipe, 'price_pipe.joblib') "
   ]
  },
  {
   "cell_type": "markdown",
   "id": "787d3af8-d3de-4609-913e-d16fef925525",
   "metadata": {},
   "source": [
    "We are ready for deployment!"
   ]
  },
  {
   "cell_type": "code",
   "execution_count": null,
   "id": "18e5dec0-c866-414e-beae-eb622b88afa7",
   "metadata": {},
   "outputs": [],
   "source": []
  }
 ],
 "metadata": {
  "kernelspec": {
   "display_name": "Python 3 (ipykernel)",
   "language": "python",
   "name": "python3"
  },
  "language_info": {
   "codemirror_mode": {
    "name": "ipython",
    "version": 3
   },
   "file_extension": ".py",
   "mimetype": "text/x-python",
   "name": "python",
   "nbconvert_exporter": "python",
   "pygments_lexer": "ipython3",
   "version": "3.9.7"
  }
 },
 "nbformat": 4,
 "nbformat_minor": 5
}
